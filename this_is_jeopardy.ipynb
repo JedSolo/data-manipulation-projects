{
 "cells": [
  {
   "cell_type": "code",
   "execution_count": 6,
   "id": "eb243318",
   "metadata": {},
   "outputs": [
    {
     "name": "stdout",
     "output_type": "stream",
     "text": [
      "0    $200\n",
      "1    $200\n",
      "2    $200\n",
      "3    $200\n",
      "4    $200\n",
      "Name: value, dtype: object \n",
      "\n",
      "56           It's the largest kingdom in the United Kingdom\n",
      "116       She was born in Virginia around 1596 & died in...\n",
      "146       After a 15-year stay in England, this propriet...\n",
      "296       On December 27, 1831 it departed Plymouth, Eng...\n",
      "386       The Tanglewood Music Festival is a summer high...\n",
      "                                ...                        \n",
      "216675    Stephen King's 1980 overview of the horror gen...\n",
      "216752    Upon signing his name in 1776 he said, \"There,...\n",
      "216777    The first one of these tombs was built about 2...\n",
      "216787    A Hoffmann tale title lost the words \"And The ...\n",
      "216789    This kingdom of England grew from 2 settlement...\n",
      "Name: question, Length: 2674, dtype: object \n",
      "\n",
      "Average value: $739.9884755451067 \n",
      "\n",
      "Sweden                               18\n",
      "Norway                               10\n",
      "Denmark                              10\n",
      "Portugal                              7\n",
      "Jordan                                7\n",
      "                                     ..\n",
      "Abner                                 1\n",
      "Pyramids                              1\n",
      "Victor Emmanuel II                    1\n",
      "drill sergeants                       1\n",
      "a pyramid (the pyramids accepted)     1\n",
      "Name: answer, Length: 791, dtype: int64\n"
     ]
    }
   ],
   "source": [
    "import pandas as pd\n",
    "#pd.set_option('display.max_colwidth', -1)\n",
    "\n",
    "df = pd.read_csv(\"jeopardy.csv\")\n",
    "#print(df.info())\n",
    "df = df.rename(columns={\"Show Number\":\"show_number\", \" Air Date\":\"air_date\", \" Round\":\"Round\", \" Category\":\"category\", \" Value\":\"value\", \" Question\":\"question\", \" Answer\":\"answer\"})\n",
    "print(df.value.head(),\"\\n\")\n",
    "\n",
    "# This functions finds selects all columns containing some list of words in the question column:\n",
    "def words(list_of_words):\n",
    "  return df[df.question.apply(lambda x: any(word in x for word in list_of_words))]\n",
    "\n",
    "print(words([\"King\", \"England\"]).question,\"\\n\")\n",
    "\n",
    "# Finding average value of the value column \n",
    "df[\"value_float\"] = df.value.apply(lambda x: float(x.replace(\",\",\"\").replace(\"None\",\"0\").strip(\"$\")))\n",
    "\n",
    "average_value = df.value_float.mean()\n",
    "print(\"Average value: \" + \"$\" + str(average_value),\"\\n\")\n",
    "\n",
    "filtered = words([\"King \"])\n",
    "\n",
    "def get_answer_counts(data):\n",
    "    return data[\"answer\"].value_counts()\n",
    "\n",
    "\n",
    "# Testing the answer count function\n",
    "print(get_answer_counts(filtered))"
   ]
  },
  {
   "cell_type": "code",
   "execution_count": null,
   "id": "dbb10f80",
   "metadata": {},
   "outputs": [],
   "source": []
  }
 ],
 "metadata": {
  "kernelspec": {
   "display_name": "Python 3",
   "language": "python",
   "name": "python3"
  },
  "language_info": {
   "codemirror_mode": {
    "name": "ipython",
    "version": 3
   },
   "file_extension": ".py",
   "mimetype": "text/x-python",
   "name": "python",
   "nbconvert_exporter": "python",
   "pygments_lexer": "ipython3",
   "version": "3.9.1"
  }
 },
 "nbformat": 4,
 "nbformat_minor": 5
}
